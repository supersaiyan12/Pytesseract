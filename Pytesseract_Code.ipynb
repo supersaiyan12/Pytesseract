{
 "cells": [
  {
   "cell_type": "markdown",
   "metadata": {},
   "source": [
    "## Impoting Libraries"
   ]
  },
  {
   "cell_type": "code",
   "execution_count": 1,
   "metadata": {},
   "outputs": [
    {
     "name": "stdout",
     "output_type": "stream",
     "text": [
      "Wall time: 0 ns\n"
     ]
    }
   ],
   "source": [
    "%time\n",
    "from gtts import gTTS           # used for converting text to speech\n",
    "from PIL import Image           # used for handling image type file\n",
    "import PIL                      # Python Imaging Library\n",
    "import gtts                     # Google's text to Speech API\n",
    "import pytesseract              # used for image to text conversion using OCR\n",
    "from tkinter import filedialog  # Used to provide GUI open/save feature\n",
    "from tkinter import *           # Open Prompt\n",
    "import cv2                      # Image prepreprocess\n",
    "from PIL import ImageSequence   # Image Sequencing\n",
    "import os                       # Setting up the Tesseract Directory\n",
    "import glob\n",
    "os.chdir(\"C:/Users/jitesh.vachheta/Documents/Python Scripts/Tesseract-OCR\")"
   ]
  },
  {
   "cell_type": "markdown",
   "metadata": {},
   "source": [
    "## For Processing One page and set the required output"
   ]
  },
  {
   "cell_type": "code",
   "execution_count": null,
   "metadata": {},
   "outputs": [],
   "source": [
    "%%time\n",
    "#day in corpus (Final) -- Singel File and corpus export\n",
    "\n",
    "#Import libs\n",
    "import cv2\n",
    "import pytesseract\n",
    "\n",
    "#Settingup Script Directories\n",
    "import os\n",
    "os.chdir(\"C:/Users/jitesh.vachheta/Documents/Python Scripts/Tesseract-OCR\")\n",
    "\n",
    "#loading up the image\n",
    "image = cv2.imread(\"C:/Users/jitesh.vachheta/Desktop/Dataset/Output_diretory/Test/tes.Tiff\")\n",
    "pytext = pytesseract.image_to_string(image,lang='eng',config='--oem 1 --psm 12')\n",
    "#print(pytext)\n",
    "\n",
    "# Setting up the new path for creating the output text file \n",
    "new_path = 'C:/Users/jitesh.vachheta/Desktop/Dataset/Output_diretory/Test/Final/one123.txt'\n",
    "new_days = open(new_path,'w')\n",
    "  \n",
    "    \n",
    "# Adding the image content and close the file\n",
    "\n",
    "new_days.write(pytext)\n",
    "new_days.close()\n"
   ]
  },
  {
   "cell_type": "markdown",
   "metadata": {},
   "source": [
    "## Process image by TKint option"
   ]
  },
  {
   "cell_type": "code",
   "execution_count": 3,
   "metadata": {},
   "outputs": [
    {
     "name": "stdout",
     "output_type": "stream",
     "text": [
      "Wall time: 0 ns\n",
      "\n",
      "***\u001b[1m' + 'Select the below option to see the output of your input' + '\u001b[0m ***\n",
      "1.First Step\n",
      "2.Second Step\n",
      "3.Exit\n",
      "2\n",
      "\u001b[1m******* ! Processing Done Sucessfully ! *******\u001b[0m\n"
     ]
    }
   ],
   "source": [
    "%time\n",
    "ch=0\n",
    "while ch!=2:\n",
    "    \n",
    "    print(\"\")\n",
    "    print(\"***\\033[1m' + 'Select the below option to see the output of your input' + '\\033[0m ***\")\n",
    "    print(\"1.First Step\")\n",
    "    print(\"2.Second Step\")\n",
    "    print(\"3.Exit\")\n",
    "    os.chdir(\"C:/Users/jitesh.vachheta/Documents/Python Scripts/Tesseract-OCR\")\n",
    "    ch= int(input())\n",
    "    \n",
    "    if ch==1 :\n",
    "        root= Tk()    # Initialize Tkinter module\n",
    "        root.filename =  filedialog.askopenfilename(initialdir = \"/\",title = \"Select image to open\",filetypes = ((\"all files\",\"*.*\"),(\"jpeg files\",\"*.jpg\")))\n",
    "        root.destroy()                  # provides a dialog box for asking file to open and returns it's path\n",
    "        \n",
    "        \n",
    "        img= PIL.Image.open(root.filename)              # opening image type file\n",
    "        index = 1                       # converting image to text\n",
    "        for frame in ImageSequence.Iterator(img):\n",
    "            frame.save(\"C:/Users/jitesh.vachheta/Desktop/Dataset/Output_diretory/Test/Output/frame%d.tif\" % index)\n",
    "            index = index + 1\n",
    "            \n",
    "            \n",
    "    elif ch==2:\n",
    "        # Preprocessing Tiff formtted image to scale up\n",
    "\n",
    "        '''im = Image.open(\"C:/Users/jitesh.vachheta/Desktop/Dataset/Output_diretory/Test/orig.tif\")\n",
    "        index = 1\n",
    "        for frame in ImageSequence.Iterator(im):\n",
    "            frame.save(\"C:/Users/jitesh.vachheta/Desktop/Dataset/Output_diretory/Test/Output/frame%d.tif\" % index)\n",
    "            index = index + 1'''\n",
    "\n",
    "        import cv2\n",
    "        os.chdir(\"C:/Users/jitesh.vachheta/Documents/Python Scripts/Tesseract-OCR\")\n",
    "\n",
    "        # Open the image from path and assign it to the new variable \"B\"\n",
    "        \n",
    "        '''  Most Common 5 PSM mode to be use (\"0\" option will remain as is )\n",
    "          0 -> Orientation and script detection (OSD) only.\n",
    "          3 -> Fully automatic page segmentation, but no OSD. (Default)\n",
    "          6 -> Assume a single uniform block of text.\n",
    "         11 -> Sparse text. Find as much text as possible in no particular order.\n",
    "         13 -> Raw line. Treat the image as a single text line'''\n",
    "\n",
    "        b = \"\"\n",
    "        for i in glob.glob('C:/Users/jitesh.vachheta/Desktop/Dataset/Output_diretory/Test/Output/*.tif'):\n",
    "            b += ( \"****************************************\" + \n",
    "\n",
    "                      \"\\n\" + \"Start of new Doc\" + \"\\n\" +\n",
    "\n",
    "                          \"****************************************\" + \"\\n\" + \n",
    "\n",
    "                          \"\\n\" +  pytesseract.image_to_string(i,lang='eng',config=('--oem 1 --psm 6')) + \"\\n\" +  \"\\n\" + \n",
    "\n",
    "                              \"\\n\" +  \"****************************************\" + \n",
    "\n",
    "                                      \"\\n\" +  \"End Of New Doc\" + \"\\n\" + \n",
    "\n",
    "                                              \"****************************************\" + \n",
    "\n",
    "                                                  \"\\n\"  + \"\\n\" + \n",
    "                                                          \"\\n\"  +  \"\\n\" + \"\\n\"  +  \"\\n\" )\n",
    "\n",
    "\n",
    "        # Setting up the new path for creating the output text file \n",
    "        new_path = 'C:/Users/jitesh.vachheta/Desktop/Dataset/Output_diretory/Test/Final/f1.txt'\n",
    "        new_days = open(new_path,'w')\n",
    "\n",
    "        # Adding the image content and close the file\n",
    "\n",
    "        new_days.write(b)\n",
    "        new_days.close()\n",
    "        print('\\033[1m' + \"******* \" + \"! Processing Done Sucessfully !\" + \" *******\" + '\\033[0m'  )\n",
    "        \n",
    "    elif ch == 3:\n",
    "        break\n",
    "    \n",
    "    elif ch!=3:\n",
    "        print(\"Enter Correct choice or it will not proceed\")    \n",
    "        "
   ]
  },
  {
   "cell_type": "markdown",
   "metadata": {},
   "source": [
    "## Split image into each of the frame (step-1)"
   ]
  },
  {
   "cell_type": "code",
   "execution_count": null,
   "metadata": {},
   "outputs": [],
   "source": [
    "%%time\n",
    "# MAIN CODE TO BE EXECUTE For Printing out all the result (tiff to single images)\n",
    "\n",
    "#import required libs \n",
    "\n",
    "import glob\n",
    "from datetime import datetime\n",
    "import pytesseract\n",
    "import cv2\n",
    "from PIL import ImageSequence\n",
    "from PIL import Image\n",
    "import os\n",
    "\n",
    "# Preprocessing Tiff formtted image to scale up\n",
    "im = Image.open(\"C:/Users/jitesh.vachheta/Desktop/Dataset/Output_diretory/Test/tes.Tiff\")\n",
    "index = 1\n",
    "for frame in ImageSequence.Iterator(im):\n",
    "    frame.save(\"C:/Users/jitesh.vachheta/Desktop/Dataset/Output_diretory/Test/Output/frame%d.tif\" % index)\n",
    "    index = index + 1"
   ]
  },
  {
   "cell_type": "markdown",
   "metadata": {},
   "source": [
    "## Process on the split image and convert into a text formatted Doc (step-2)"
   ]
  },
  {
   "cell_type": "code",
   "execution_count": 2,
   "metadata": {},
   "outputs": [
    {
     "name": "stdout",
     "output_type": "stream",
     "text": [
      "Wall time: 23min 30s\n"
     ]
    }
   ],
   "source": [
    "%%time\n",
    "# MAIN CODE TO BE EXECUTE For Printing out all the result (tiff to single images)\n",
    "\n",
    "#import required libs \n",
    "\n",
    "import glob\n",
    "from datetime import datetime\n",
    "import pytesseract\n",
    "import cv2\n",
    "from PIL import Image\n",
    "import os\n",
    "\n",
    "# Preprocessing Tiff formtted image to scale up\n",
    "\n",
    "'''im = Image.open(\"C:/Users/jitesh.vachheta/Desktop/Dataset/Output_diretory/Test/orig.tif\")\n",
    "index = 1\n",
    "for frame in ImageSequence.Iterator(im):\n",
    "    frame.save(\"C:/Users/jitesh.vachheta/Desktop/Dataset/Output_diretory/Test/Output/frame%d.tif\" % index)\n",
    "    index = index + 1'''\n",
    "\n",
    "# Path where the Tesseact being setup \n",
    "    # -L   ->    flag controls the language\n",
    "    # -PSM ->    Page segmantation Mode\n",
    "    # -OEM ->    OCR Engine Mode\n",
    "    # config -> (config='--oem 1') / and for table type config=('--oem 3 --psm 4')\n",
    "    \n",
    "import cv2\n",
    "os.chdir(\"C:/Users/jitesh.vachheta/Documents/Python Scripts/Tesseract-OCR\")\n",
    "\n",
    "# Open the image from path and assign it to the new variable \"B\"\n",
    "\n",
    "b = \"\"\n",
    "for i in glob.glob('C:/Users/jitesh.vachheta/Desktop/Dataset/Output_diretory/Test/Output/*.tif'):\n",
    "    b += ( \"****************************************\" + \n",
    "          \n",
    "              \"\\n\" + \"Start of new Doc\" + \"\\n\" +\n",
    "          \n",
    "                  \"****************************************\" + \"\\n\" + \n",
    "          \n",
    "          \n",
    "                  \"\\n\" +  pytesseract.image_to_string(i,lang='eng',config=('--oem 1 --psm 6')) + \"\\n\" +  \"\\n\" + \n",
    "          \n",
    "          \n",
    "                      \"\\n\" +  \"****************************************\" + \n",
    "          \n",
    "                              \"\\n\" +  \"End Of New Doc\" + \"\\n\" + \n",
    "          \n",
    "                                      \"****************************************\" + \n",
    "          \n",
    "                                          \"\\n\"  + \"\\n\" + \n",
    "                                                  \"\\n\"  +  \"\\n\" + \"\\n\"  +  \"\\n\" )\n",
    "\n",
    "    \n",
    "# Setting up the new path for creating the output text file \n",
    "new_path = 'C:/Users/jitesh.vachheta/Desktop/Dataset/Output_diretory/Test/Final/Result1.txt'\n",
    "\n",
    "new_days = open(new_path,'w')\n",
    "  \n",
    "# Adding the image content and close the file\n",
    "\n",
    "new_days.write(b)\n",
    "\n",
    "new_days.close()"
   ]
  },
  {
   "cell_type": "code",
   "execution_count": null,
   "metadata": {},
   "outputs": [],
   "source": []
  }
 ],
 "metadata": {
  "kernelspec": {
   "display_name": "Python 3",
   "language": "python",
   "name": "python3"
  },
  "language_info": {
   "codemirror_mode": {
    "name": "ipython",
    "version": 3
   },
   "file_extension": ".py",
   "mimetype": "text/x-python",
   "name": "python",
   "nbconvert_exporter": "python",
   "pygments_lexer": "ipython3",
   "version": "3.6.5"
  }
 },
 "nbformat": 4,
 "nbformat_minor": 2
}
